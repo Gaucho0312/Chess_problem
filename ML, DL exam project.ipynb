{
 "cells": [
  {
   "cell_type": "code",
   "execution_count": 1,
   "metadata": {},
   "outputs": [],
   "source": [
    "import numpy as np\n",
    "import pandas as pd\n",
    "from sklearn.model_selection import train_test_split\n",
    "from sklearn.svm import SVC\n",
    "from sklearn import svm\n",
    "import seaborn as sns\n",
    "from sklearn.preprocessing import LabelEncoder\n",
    "from sklearn.preprocessing import StandardScaler\n",
    "from sklearn.model_selection import GridSearchCV\n",
    "from sklearn.model_selection import RandomizedSearchCV\n",
    "from sklearn.metrics import confusion_matrix\n",
    "from sklearn.neighbors import KNeighborsClassifier\n",
    "from sklearn.model_selection import KFold\n",
    "from sklearn.tree import DecisionTreeClassifier\n",
    "from sklearn.ensemble import VotingClassifier\n",
    "from sklearn.metrics import classification_report\n",
    "\n",
    "import tensorflow as tf\n",
    "import tensorflow.keras as keras\n",
    "\n",
    "\n",
    "from tensorflow.keras import backend as K\n",
    "from tensorflow.keras import metrics, regularizers, optimizers\n",
    "from tensorflow.keras.layers import Dense, Input, Dropout\n",
    "from tensorflow.keras.models import Model\n",
    "from tensorflow.keras.utils import to_categorical\n",
    "from tensorflow.keras.models import Sequential\n",
    "\n",
    "\n",
    "import matplotlib as mpl\n",
    "import matplotlib.pyplot as plt\n",
    "\n",
    "import random as rn\n",
    "import scipy as sp"
   ]
  },
  {
   "cell_type": "code",
   "execution_count": 2,
   "metadata": {},
   "outputs": [],
   "source": [
    "data = pd.read_csv(\"krkopt.csv\")"
   ]
  },
  {
   "cell_type": "code",
   "execution_count": 3,
   "metadata": {},
   "outputs": [
    {
     "data": {
      "text/html": [
       "<div>\n",
       "<style scoped>\n",
       "    .dataframe tbody tr th:only-of-type {\n",
       "        vertical-align: middle;\n",
       "    }\n",
       "\n",
       "    .dataframe tbody tr th {\n",
       "        vertical-align: top;\n",
       "    }\n",
       "\n",
       "    .dataframe thead th {\n",
       "        text-align: right;\n",
       "    }\n",
       "</style>\n",
       "<table border=\"1\" class=\"dataframe\">\n",
       "  <thead>\n",
       "    <tr style=\"text-align: right;\">\n",
       "      <th></th>\n",
       "      <th>WK_file</th>\n",
       "      <th>WK_rank</th>\n",
       "      <th>WR_file</th>\n",
       "      <th>WR_rank</th>\n",
       "      <th>BK_file</th>\n",
       "      <th>BK_rank</th>\n",
       "      <th>result</th>\n",
       "    </tr>\n",
       "  </thead>\n",
       "  <tbody>\n",
       "    <tr>\n",
       "      <th>0</th>\n",
       "      <td>a</td>\n",
       "      <td>1</td>\n",
       "      <td>b</td>\n",
       "      <td>3</td>\n",
       "      <td>c</td>\n",
       "      <td>2</td>\n",
       "      <td>draw</td>\n",
       "    </tr>\n",
       "    <tr>\n",
       "      <th>1</th>\n",
       "      <td>a</td>\n",
       "      <td>1</td>\n",
       "      <td>c</td>\n",
       "      <td>1</td>\n",
       "      <td>c</td>\n",
       "      <td>2</td>\n",
       "      <td>draw</td>\n",
       "    </tr>\n",
       "    <tr>\n",
       "      <th>2</th>\n",
       "      <td>a</td>\n",
       "      <td>1</td>\n",
       "      <td>c</td>\n",
       "      <td>1</td>\n",
       "      <td>d</td>\n",
       "      <td>1</td>\n",
       "      <td>draw</td>\n",
       "    </tr>\n",
       "    <tr>\n",
       "      <th>3</th>\n",
       "      <td>a</td>\n",
       "      <td>1</td>\n",
       "      <td>c</td>\n",
       "      <td>1</td>\n",
       "      <td>d</td>\n",
       "      <td>2</td>\n",
       "      <td>draw</td>\n",
       "    </tr>\n",
       "    <tr>\n",
       "      <th>4</th>\n",
       "      <td>a</td>\n",
       "      <td>1</td>\n",
       "      <td>c</td>\n",
       "      <td>2</td>\n",
       "      <td>c</td>\n",
       "      <td>1</td>\n",
       "      <td>draw</td>\n",
       "    </tr>\n",
       "    <tr>\n",
       "      <th>...</th>\n",
       "      <td>...</td>\n",
       "      <td>...</td>\n",
       "      <td>...</td>\n",
       "      <td>...</td>\n",
       "      <td>...</td>\n",
       "      <td>...</td>\n",
       "      <td>...</td>\n",
       "    </tr>\n",
       "    <tr>\n",
       "      <th>28051</th>\n",
       "      <td>b</td>\n",
       "      <td>1</td>\n",
       "      <td>g</td>\n",
       "      <td>7</td>\n",
       "      <td>e</td>\n",
       "      <td>5</td>\n",
       "      <td>sixteen</td>\n",
       "    </tr>\n",
       "    <tr>\n",
       "      <th>28052</th>\n",
       "      <td>b</td>\n",
       "      <td>1</td>\n",
       "      <td>g</td>\n",
       "      <td>7</td>\n",
       "      <td>e</td>\n",
       "      <td>6</td>\n",
       "      <td>sixteen</td>\n",
       "    </tr>\n",
       "    <tr>\n",
       "      <th>28053</th>\n",
       "      <td>b</td>\n",
       "      <td>1</td>\n",
       "      <td>g</td>\n",
       "      <td>7</td>\n",
       "      <td>e</td>\n",
       "      <td>7</td>\n",
       "      <td>sixteen</td>\n",
       "    </tr>\n",
       "    <tr>\n",
       "      <th>28054</th>\n",
       "      <td>b</td>\n",
       "      <td>1</td>\n",
       "      <td>g</td>\n",
       "      <td>7</td>\n",
       "      <td>f</td>\n",
       "      <td>5</td>\n",
       "      <td>sixteen</td>\n",
       "    </tr>\n",
       "    <tr>\n",
       "      <th>28055</th>\n",
       "      <td>b</td>\n",
       "      <td>1</td>\n",
       "      <td>g</td>\n",
       "      <td>7</td>\n",
       "      <td>g</td>\n",
       "      <td>5</td>\n",
       "      <td>sixteen</td>\n",
       "    </tr>\n",
       "  </tbody>\n",
       "</table>\n",
       "<p>28056 rows × 7 columns</p>\n",
       "</div>"
      ],
      "text/plain": [
       "      WK_file  WK_rank WR_file  WR_rank BK_file  BK_rank   result\n",
       "0           a        1       b        3       c        2     draw\n",
       "1           a        1       c        1       c        2     draw\n",
       "2           a        1       c        1       d        1     draw\n",
       "3           a        1       c        1       d        2     draw\n",
       "4           a        1       c        2       c        1     draw\n",
       "...       ...      ...     ...      ...     ...      ...      ...\n",
       "28051       b        1       g        7       e        5  sixteen\n",
       "28052       b        1       g        7       e        6  sixteen\n",
       "28053       b        1       g        7       e        7  sixteen\n",
       "28054       b        1       g        7       f        5  sixteen\n",
       "28055       b        1       g        7       g        5  sixteen\n",
       "\n",
       "[28056 rows x 7 columns]"
      ]
     },
     "execution_count": 3,
     "metadata": {},
     "output_type": "execute_result"
    }
   ],
   "source": [
    "data"
   ]
  },
  {
   "cell_type": "code",
   "execution_count": 4,
   "metadata": {},
   "outputs": [
    {
     "data": {
      "text/plain": [
       "(28056, 7)"
      ]
     },
     "execution_count": 4,
     "metadata": {},
     "output_type": "execute_result"
    }
   ],
   "source": [
    "#exploratory analysis\n",
    "data.shape\n"
   ]
  },
  {
   "cell_type": "code",
   "execution_count": 5,
   "metadata": {},
   "outputs": [
    {
     "name": "stdout",
     "output_type": "stream",
     "text": [
      "<class 'pandas.core.frame.DataFrame'>\n",
      "RangeIndex: 28056 entries, 0 to 28055\n",
      "Data columns (total 7 columns):\n",
      " #   Column   Non-Null Count  Dtype \n",
      "---  ------   --------------  ----- \n",
      " 0   WK_file  28056 non-null  object\n",
      " 1   WK_rank  28056 non-null  int64 \n",
      " 2   WR_file  28056 non-null  object\n",
      " 3   WR_rank  28056 non-null  int64 \n",
      " 4   BK_file  28056 non-null  object\n",
      " 5   BK_rank  28056 non-null  int64 \n",
      " 6   result   28056 non-null  object\n",
      "dtypes: int64(3), object(4)\n",
      "memory usage: 1.5+ MB\n"
     ]
    }
   ],
   "source": [
    "data.info()"
   ]
  },
  {
   "cell_type": "code",
   "execution_count": 6,
   "metadata": {},
   "outputs": [
    {
     "data": {
      "text/plain": [
       "array(['draw', 'zero', 'one', 'two', 'three', 'four', 'five', 'six',\n",
       "       'seven', 'eight', 'nine', 'ten', 'eleven', 'twelve', 'thirteen',\n",
       "       'fourteen', 'fifteen', 'sixteen'], dtype=object)"
      ]
     },
     "execution_count": 6,
     "metadata": {},
     "output_type": "execute_result"
    }
   ],
   "source": [
    "#for output layer of NN\n",
    "data[\"result\"].unique()"
   ]
  },
  {
   "cell_type": "code",
   "execution_count": 7,
   "metadata": {},
   "outputs": [
    {
     "data": {
      "text/html": [
       "<div>\n",
       "<style scoped>\n",
       "    .dataframe tbody tr th:only-of-type {\n",
       "        vertical-align: middle;\n",
       "    }\n",
       "\n",
       "    .dataframe tbody tr th {\n",
       "        vertical-align: top;\n",
       "    }\n",
       "\n",
       "    .dataframe thead th {\n",
       "        text-align: right;\n",
       "    }\n",
       "</style>\n",
       "<table border=\"1\" class=\"dataframe\">\n",
       "  <thead>\n",
       "    <tr style=\"text-align: right;\">\n",
       "      <th></th>\n",
       "      <th>WK_rank</th>\n",
       "      <th>WR_rank</th>\n",
       "      <th>BK_rank</th>\n",
       "    </tr>\n",
       "  </thead>\n",
       "  <tbody>\n",
       "    <tr>\n",
       "      <th>count</th>\n",
       "      <td>28056.000000</td>\n",
       "      <td>28056.000000</td>\n",
       "      <td>28056.000000</td>\n",
       "    </tr>\n",
       "    <tr>\n",
       "      <th>mean</th>\n",
       "      <td>1.854006</td>\n",
       "      <td>4.512404</td>\n",
       "      <td>4.451811</td>\n",
       "    </tr>\n",
       "    <tr>\n",
       "      <th>std</th>\n",
       "      <td>0.926414</td>\n",
       "      <td>2.282723</td>\n",
       "      <td>2.248387</td>\n",
       "    </tr>\n",
       "    <tr>\n",
       "      <th>min</th>\n",
       "      <td>1.000000</td>\n",
       "      <td>1.000000</td>\n",
       "      <td>1.000000</td>\n",
       "    </tr>\n",
       "    <tr>\n",
       "      <th>25%</th>\n",
       "      <td>1.000000</td>\n",
       "      <td>3.000000</td>\n",
       "      <td>3.000000</td>\n",
       "    </tr>\n",
       "    <tr>\n",
       "      <th>50%</th>\n",
       "      <td>2.000000</td>\n",
       "      <td>5.000000</td>\n",
       "      <td>4.000000</td>\n",
       "    </tr>\n",
       "    <tr>\n",
       "      <th>75%</th>\n",
       "      <td>2.000000</td>\n",
       "      <td>6.000000</td>\n",
       "      <td>6.000000</td>\n",
       "    </tr>\n",
       "    <tr>\n",
       "      <th>max</th>\n",
       "      <td>4.000000</td>\n",
       "      <td>8.000000</td>\n",
       "      <td>8.000000</td>\n",
       "    </tr>\n",
       "  </tbody>\n",
       "</table>\n",
       "</div>"
      ],
      "text/plain": [
       "            WK_rank       WR_rank       BK_rank\n",
       "count  28056.000000  28056.000000  28056.000000\n",
       "mean       1.854006      4.512404      4.451811\n",
       "std        0.926414      2.282723      2.248387\n",
       "min        1.000000      1.000000      1.000000\n",
       "25%        1.000000      3.000000      3.000000\n",
       "50%        2.000000      5.000000      4.000000\n",
       "75%        2.000000      6.000000      6.000000\n",
       "max        4.000000      8.000000      8.000000"
      ]
     },
     "execution_count": 7,
     "metadata": {},
     "output_type": "execute_result"
    }
   ],
   "source": [
    "#These numbers tell us about the ranks of the pieces, basically how far up on the board they are.\n",
    "#the reason 8 is max, is because the board is only 8 squares long.\n",
    "data.describe()"
   ]
  },
  {
   "cell_type": "code",
   "execution_count": 8,
   "metadata": {},
   "outputs": [
    {
     "data": {
      "text/plain": [
       "WK_file    0\n",
       "WK_rank    0\n",
       "WR_file    0\n",
       "WR_rank    0\n",
       "BK_file    0\n",
       "BK_rank    0\n",
       "result     0\n",
       "dtype: int64"
      ]
     },
     "execution_count": 8,
     "metadata": {},
     "output_type": "execute_result"
    }
   ],
   "source": [
    "#check for missing data\n",
    "data.isnull().sum()"
   ]
  },
  {
   "cell_type": "code",
   "execution_count": 9,
   "metadata": {
    "scrolled": true
   },
   "outputs": [
    {
     "data": {
      "text/plain": [
       "<AxesSubplot:>"
      ]
     },
     "execution_count": 9,
     "metadata": {},
     "output_type": "execute_result"
    },
    {
     "data": {
      "image/png": "[encoded data removed]",
      "text/plain": [
       "<Figure size 432x288 with 1 Axes>"
      ]
     },
     "metadata": {
      "needs_background": "light"
     },
     "output_type": "display_data"
    }
   ],
   "source": [
    "#distribution of result column\n",
    "plt.xticks(rotation=90)\n",
    "data[\"result\"].hist()"
   ]
  },
  {
   "cell_type": "code",
   "execution_count": 10,
   "metadata": {},
   "outputs": [],
   "source": [
    "#pre processing\n",
    "#Labelencoding file as rank already is a number from 1-8\n",
    "white_king = LabelEncoder()\n",
    "white_rook = LabelEncoder()\n",
    "black_king = LabelEncoder()\n",
    "result = LabelEncoder()"
   ]
  },
  {
   "cell_type": "code",
   "execution_count": 11,
   "metadata": {},
   "outputs": [],
   "source": [
    "data[\"WK_file\"] = white_king.fit_transform(data[\"WK_file\"])\n",
    "data[\"WR_file\"] = white_rook.fit_transform(data[\"WR_file\"])\n",
    "data[\"BK_file\"] = black_king.fit_transform(data[\"BK_file\"])\n",
    "data[\"result\"] = result.fit_transform(data[\"result\"])"
   ]
  },
  {
   "cell_type": "code",
   "execution_count": 12,
   "metadata": {},
   "outputs": [],
   "source": [
    "y = data[\"result\"]\n",
    "X = data.iloc[:,:-1].values"
   ]
  },
  {
   "cell_type": "code",
   "execution_count": 13,
   "metadata": {},
   "outputs": [
    {
     "name": "stdout",
     "output_type": "stream",
     "text": [
      "0         0\n",
      "1         0\n",
      "2         0\n",
      "3         0\n",
      "4         0\n",
      "         ..\n",
      "28051    11\n",
      "28052    11\n",
      "28053    11\n",
      "28054    11\n",
      "28055    11\n",
      "Name: result, Length: 28056, dtype: int32\n"
     ]
    }
   ],
   "source": [
    "print(y)"
   ]
  },
  {
   "cell_type": "code",
   "execution_count": 14,
   "metadata": {},
   "outputs": [],
   "source": [
    "X_train, X_test, y_train, y_test = train_test_split(X,y, random_state= 0, test_size=0.2)"
   ]
  },
  {
   "cell_type": "code",
   "execution_count": 15,
   "metadata": {},
   "outputs": [
    {
     "name": "stdout",
     "output_type": "stream",
     "text": [
      "0\n",
      "1\n",
      "2\n",
      "3\n",
      "4\n",
      "5\n",
      "6\n",
      "7\n",
      "8\n",
      "9\n",
      "10\n",
      "11\n",
      "12\n",
      "13\n",
      "14\n",
      "15\n",
      "0.7608695652173914\n",
      "optimal number of niegbors: 7\n"
     ]
    }
   ],
   "source": [
    "#finding optimal number of neigbors\n",
    "\n",
    "accuracy = []\n",
    "i = 1\n",
    "num_neighbors = 16\n",
    "\n",
    "for i in range(num_neighbors):\n",
    "    knn_model = KNeighborsClassifier(n_neighbors = i+1)\n",
    "    knn_model.fit(X_train, y_train)\n",
    "    accuracy.append(knn_model.score(X_test, y_test))\n",
    "    print(i)\n",
    "print(np.max(np.array(accuracy)))\n",
    "print(\"optimal number of niegbors:\", np.array(accuracy).argmax()+1)\n"
   ]
  },
  {
   "cell_type": "code",
   "execution_count": 16,
   "metadata": {},
   "outputs": [
    {
     "data": {
      "text/plain": [
       "0.7608695652173914"
      ]
     },
     "execution_count": 16,
     "metadata": {},
     "output_type": "execute_result"
    }
   ],
   "source": [
    "knn_model = KNeighborsClassifier(n_neighbors = 7)\n",
    "knn_model.fit(X_train, y_train)\n",
    "knn_model.score(X_test, y_test)"
   ]
  },
  {
   "cell_type": "code",
   "execution_count": 17,
   "metadata": {},
   "outputs": [
    {
     "name": "stdout",
     "output_type": "stream",
     "text": [
      "[0.5231646471846044, 0.5352815395580898, 0.6231290092658589, 0.6885245901639344, 0.7277263007840342, 0.7524946543121882, 0.7608695652173914, 0.7585531004989309, 0.7446543121881682, 0.7303991446899502, 0.7204205274411974, 0.699928724162509, 0.6926229508196722, 0.6819315751960086, 0.6785459729151817, 0.670527441197434]\n"
     ]
    }
   ],
   "source": [
    "print(accuracy)"
   ]
  },
  {
   "cell_type": "code",
   "execution_count": 18,
   "metadata": {},
   "outputs": [],
   "source": [
    "#scaling the data after performing KNN, as KNN has performed better without the scaling\n",
    "X = StandardScaler().fit_transform(X,y)"
   ]
  },
  {
   "cell_type": "code",
   "execution_count": 19,
   "metadata": {},
   "outputs": [],
   "source": [
    "X_train, X_test, y_train, y_test = train_test_split(X,y, random_state= 0, test_size=0.2)"
   ]
  },
  {
   "cell_type": "code",
   "execution_count": 20,
   "metadata": {},
   "outputs": [
    {
     "data": {
      "text/plain": [
       "array([[ 0.95073919,  2.31649321, -1.54293208, -1.1006366 ,  0.85429472,\n",
       "         0.68859012],\n",
       "       [-0.11655989, -0.92185718, -1.10778429, -0.2244744 ,  0.85429472,\n",
       "         1.57813263],\n",
       "       [ 0.95073919,  1.23704308, -1.10778429,  0.21360669, -0.01141693,\n",
       "         0.24381886],\n",
       "       ...,\n",
       "       [ 0.95073919,  1.23704308,  0.19765909, -0.6625555 , -0.87712857,\n",
       "         1.57813263],\n",
       "       [-1.18385898,  0.15759295,  1.06795468, -0.2244744 ,  0.85429472,\n",
       "        -1.53526617],\n",
       "       [ 0.95073919,  2.31649321,  1.06795468, -0.6625555 ,  1.28715054,\n",
       "        -0.2009524 ]])"
      ]
     },
     "execution_count": 20,
     "metadata": {},
     "output_type": "execute_result"
    }
   ],
   "source": [
    "X_train"
   ]
  },
  {
   "cell_type": "code",
   "execution_count": 21,
   "metadata": {},
   "outputs": [
    {
     "name": "stdout",
     "output_type": "stream",
     "text": [
      "RandomizedSearchCV(cv=2, estimator=SVC(probability=True), n_iter=100, n_jobs=-1,\n",
      "                   param_distributions={'C': [1, 2, 3, 4, 5],\n",
      "                                        'coef0': [1, 2, 3, 4, 5],\n",
      "                                        'degree': [1, 2, 3, 4, 5],\n",
      "                                        'kernel': ('linear', 'rbf', 'poly')})\n",
      "0.6372304402067368\n",
      "SVC(C=4, coef0=4, degree=5, kernel='poly', probability=True)\n"
     ]
    }
   ],
   "source": [
    "SVM_model = SVC(probability=True)\n",
    "\n",
    "parameters = parameters = {'kernel':('linear', 'rbf', 'poly'), 'C': list(range(1,6)),\n",
    "          'coef0': list(range(1,6)), \"degree\": list(range(1,6))}\n",
    "\n",
    "\n",
    "grid = RandomizedSearchCV(SVM_model, parameters, n_jobs = -1, cv = 2, n_iter=100)\n",
    "grid.fit(X_train, y_train)\n",
    "print(grid)\n",
    "# summarize the results of the grid search\n",
    "print(grid.best_score_)\n",
    "print(grid.best_estimator_)\n",
    "grid.score(X_test, y_test)\n",
    "y_score = grid.decision_function(X_test)"
   ]
  },
  {
   "cell_type": "code",
   "execution_count": 22,
   "metadata": {},
   "outputs": [],
   "source": [
    "#Preparing y for NN\n",
    "y_train_NN = to_categorical(y_train, 18)\n",
    "y_test_NN = to_categorical(y_test, 18)\n",
    "\n",
    "seed = 100"
   ]
  },
  {
   "cell_type": "code",
   "execution_count": 23,
   "metadata": {},
   "outputs": [
    {
     "data": {
      "text/plain": [
       "(5612, 18)"
      ]
     },
     "execution_count": 23,
     "metadata": {},
     "output_type": "execute_result"
    }
   ],
   "source": [
    "y_test_NN.shape"
   ]
  },
  {
   "cell_type": "code",
   "execution_count": 24,
   "metadata": {},
   "outputs": [
    {
     "name": "stdout",
     "output_type": "stream",
     "text": [
      "[[0. 0. 0. ... 0. 0. 0.]\n",
      " [0. 0. 0. ... 0. 0. 0.]\n",
      " [0. 0. 0. ... 0. 0. 0.]\n",
      " ...\n",
      " [0. 0. 1. ... 0. 0. 0.]\n",
      " [0. 0. 0. ... 0. 0. 0.]\n",
      " [1. 0. 0. ... 0. 0. 0.]]\n"
     ]
    }
   ],
   "source": [
    "print(y_test_NN)"
   ]
  },
  {
   "cell_type": "code",
   "execution_count": 25,
   "metadata": {},
   "outputs": [],
   "source": [
    "model = Sequential()\n",
    "model.add(Dense(units = 6, activation = \"sigmoid\"))\n",
    "model.add(Dense(units = 96, activation = \"sigmoid\"))\n",
    "model.add(Dense(units = 96, activation = \"sigmoid\"))\n",
    "model.add(Dense(units = 18, activation = \"softmax\"))\n",
    "\n",
    "opt = keras.optimizers.Adam(learning_rate = 0.01)\n",
    "\n",
    "model.compile(loss = \"categorical_crossentropy\", optimizer = opt, metrics = [\"accuracy\"])"
   ]
  },
  {
   "cell_type": "code",
   "execution_count": 26,
   "metadata": {},
   "outputs": [],
   "source": [
    "history = model.fit(X_train, y_train_NN, epochs = 300, verbose = 0, validation_split = 0.2)"
   ]
  },
  {
   "cell_type": "code",
   "execution_count": 27,
   "metadata": {},
   "outputs": [
    {
     "name": "stdout",
     "output_type": "stream",
     "text": [
      "702/702 [==============================] - 0s 629us/step - loss: 0.4769 - accuracy: 0.8344\n"
     ]
    },
    {
     "data": {
      "text/plain": [
       "[0.47691333293914795, 0.8343878388404846]"
      ]
     },
     "execution_count": 27,
     "metadata": {},
     "output_type": "execute_result"
    }
   ],
   "source": [
    "acc = model.evaluate(X_train, y_train_NN)\n",
    "acc"
   ]
  },
  {
   "cell_type": "code",
   "execution_count": 28,
   "metadata": {},
   "outputs": [
    {
     "data": {
      "text/plain": [
       "<matplotlib.legend.Legend at 0x1dcec253640>"
      ]
     },
     "execution_count": 28,
     "metadata": {},
     "output_type": "execute_result"
    },
    {
     "data": {
      "image/png": "[encoded data removed]",
      "text/plain": [
       "<Figure size 432x288 with 1 Axes>"
      ]
     },
     "metadata": {
      "needs_background": "light"
     },
     "output_type": "display_data"
    }
   ],
   "source": [
    "plt.figure(\"Model training\")\n",
    "plt.ylabel(\"training error\")\n",
    "plt.xlabel(\"epoch\")\n",
    "for i in history.history.keys():\n",
    "    plt.plot(history.history[i], label = i)\n",
    "plt.legend(loc = \"best\")"
   ]
  },
  {
   "cell_type": "code",
   "execution_count": 29,
   "metadata": {},
   "outputs": [
    {
     "name": "stdout",
     "output_type": "stream",
     "text": [
      "176/176 [==============================] - 0s 627us/step - loss: 0.9257 - accuracy: 0.7434\n"
     ]
    },
    {
     "data": {
      "text/plain": [
       "[0.9256743788719177, 0.7434070110321045]"
      ]
     },
     "execution_count": 29,
     "metadata": {},
     "output_type": "execute_result"
    }
   ],
   "source": [
    "acc_test = model.evaluate(X_test, y_test_NN)\n",
    "acc_test"
   ]
  },
  {
   "cell_type": "code",
   "execution_count": 30,
   "metadata": {},
   "outputs": [
    {
     "name": "stdout",
     "output_type": "stream",
     "text": [
      "GridSearchCV(cv=5, estimator=DecisionTreeClassifier(), n_jobs=-1,\n",
      "             param_grid={'criterion': ['gini', 'entropy'],\n",
      "                         'max_depth': [3, 6, 10, 15, 20],\n",
      "                         'min_samples_leaf': [3, 5, 7, 9, 11]})\n",
      "0.7389062449743461\n",
      "DecisionTreeClassifier(criterion='entropy', max_depth=20, min_samples_leaf=3)\n"
     ]
    },
    {
     "data": {
      "text/plain": [
       "0.7473271560940841"
      ]
     },
     "execution_count": 30,
     "metadata": {},
     "output_type": "execute_result"
    }
   ],
   "source": [
    "tree = DecisionTreeClassifier()\n",
    "\n",
    "parameters = {\"max_depth\": [3, 6, 10, 15, 20], \"min_samples_leaf\": [3, 5, 7, 9, 11], \"criterion\": [\"gini\", \"entropy\"]}\n",
    "\n",
    "grid = GridSearchCV(tree, parameters, n_jobs = -1, cv = 5)\n",
    "grid.fit(X_train, y_train)\n",
    "print(grid)\n",
    "# summarize the results of the grid search\n",
    "print(grid.best_score_)\n",
    "print(grid.best_estimator_)\n",
    "grid.score(X_test, y_test)"
   ]
  },
  {
   "cell_type": "code",
   "execution_count": 31,
   "metadata": {},
   "outputs": [],
   "source": [
    "for model in [knn_model, model, tree, SVM_model]:\n",
    "    model._estimator_type = \"classifier\""
   ]
  },
  {
   "cell_type": "code",
   "execution_count": 32,
   "metadata": {},
   "outputs": [],
   "source": [
    "ensemble = VotingClassifier(estimators=[(\"KNeighborsClassifier\", knn_model), (\"Sequential\", model), (\"DecisionTreeClassifier\", tree), (\"SVC\", SVM_model)], voting='soft')"
   ]
  },
  {
   "cell_type": "code",
   "execution_count": 33,
   "metadata": {},
   "outputs": [
    {
     "data": {
      "text/plain": [
       "0.8282252316464719"
      ]
     },
     "execution_count": 33,
     "metadata": {},
     "output_type": "execute_result"
    }
   ],
   "source": [
    "ensemble.fit(X_train, y_train)\n",
    "ensemble.score(X_test, y_test)"
   ]
  },
  {
   "cell_type": "code",
   "execution_count": 34,
   "metadata": {},
   "outputs": [
    {
     "name": "stdout",
     "output_type": "stream",
     "text": [
      "              precision    recall  f1-score   support\n",
      "\n",
      "           0       0.83      0.95      0.89       548\n",
      "           1       0.85      0.84      0.85       279\n",
      "           2       0.85      0.80      0.83       578\n",
      "           3       0.78      0.85      0.81       446\n",
      "           4       0.81      0.84      0.82        87\n",
      "           5       0.76      0.78      0.77        40\n",
      "           6       0.81      0.89      0.85       891\n",
      "           7       0.87      0.78      0.82       358\n",
      "           8       0.89      0.73      0.80        11\n",
      "           9       0.83      0.65      0.73       140\n",
      "          10       0.77      0.82      0.79       117\n",
      "          11       0.87      0.52      0.65        89\n",
      "          12       0.81      0.78      0.80       392\n",
      "          13       0.84      0.83      0.84       838\n",
      "          14       0.50      0.08      0.13        13\n",
      "          15       0.85      0.79      0.82       738\n",
      "          16       0.79      1.00      0.88        42\n",
      "          17       0.80      0.80      0.80         5\n",
      "\n",
      "    accuracy                           0.83      5612\n",
      "   macro avg       0.81      0.76      0.77      5612\n",
      "weighted avg       0.83      0.83      0.83      5612\n",
      "\n"
     ]
    }
   ],
   "source": [
    "print(classification_report(y_test, ensemble.predict(X_test)))"
   ]
  },
  {
   "cell_type": "code",
   "execution_count": 35,
   "metadata": {},
   "outputs": [
    {
     "data": {
      "text/plain": [
       "array([[520,   1,   1,   9,   0,   0,   7,   0,   0,   2,   1,   0,   1,\n",
       "          2,   0,   2,   2,   0],\n",
       "       [  6, 235,   1,   0,   4,   0,   2,  18,   1,   8,   0,   0,   2,\n",
       "          0,   0,   2,   0,   0],\n",
       "       [ 14,   1, 465,   2,   0,   1,  11,   3,   0,   1,   1,   0,  24,\n",
       "         12,   0,  43,   0,   0],\n",
       "       [  5,   0,   0, 381,   0,   0,  51,   0,   0,   0,   0,   6,   0,\n",
       "          2,   0,   1,   0,   0],\n",
       "       [  2,   2,   0,   0,  73,   1,   0,   0,   0,   1,   8,   0,   0,\n",
       "          0,   0,   0,   0,   0],\n",
       "       [  0,   0,   0,   0,   3,  31,   0,   0,   0,   0,   3,   0,   0,\n",
       "          1,   1,   1,   0,   0],\n",
       "       [  7,   0,   3,  42,   0,   0, 791,   0,   0,   1,   0,   0,   1,\n",
       "         43,   0,   3,   0,   0],\n",
       "       [ 14,  18,  12,   0,   0,   1,   1, 280,   0,   1,   0,   0,  23,\n",
       "          4,   0,   4,   0,   0],\n",
       "       [  0,   0,   0,   0,   1,   0,   0,   0,   8,   0,   1,   0,   0,\n",
       "          0,   0,   0,   0,   1],\n",
       "       [  5,  11,   0,   0,   1,   2,   2,   7,   0,  91,  14,   0,   4,\n",
       "          0,   0,   2,   1,   0],\n",
       "       [  4,   1,   1,   0,   6,   1,   1,   2,   0,   3,  96,   0,   1,\n",
       "          0,   0,   0,   1,   0],\n",
       "       [  9,   0,   0,  33,   0,   0,   1,   0,   0,   0,   0,  46,   0,\n",
       "          0,   0,   0,   0,   0],\n",
       "       [ 18,   5,  25,   1,   1,   0,  10,  10,   0,   1,   0,   0, 305,\n",
       "          4,   0,  12,   0,   0],\n",
       "       [ 11,   1,   8,  13,   0,   0,  74,   0,   0,   0,   0,   0,   1,\n",
       "        695,   0,  35,   0,   0],\n",
       "       [  1,   0,   0,   0,   0,   4,   0,   0,   0,   0,   0,   0,   0,\n",
       "          0,   1,   0,   7,   0],\n",
       "       [  8,   1,  33,   9,   1,   0,  22,   2,   0,   0,   1,   1,  13,\n",
       "         63,   0, 584,   0,   0],\n",
       "       [  0,   0,   0,   0,   0,   0,   0,   0,   0,   0,   0,   0,   0,\n",
       "          0,   0,   0,  42,   0],\n",
       "       [  1,   0,   0,   0,   0,   0,   0,   0,   0,   0,   0,   0,   0,\n",
       "          0,   0,   0,   0,   4]], dtype=int64)"
      ]
     },
     "execution_count": 35,
     "metadata": {},
     "output_type": "execute_result"
    }
   ],
   "source": [
    "confusion_matrix(y_test, ensemble.predict(X_test))"
   ]
  }
 ],
 "metadata": {
  "kernelspec": {
   "display_name": "Python 3",
   "language": "python",
   "name": "python3"
  },
  "language_info": {
   "codemirror_mode": {
    "name": "ipython",
    "version": 3
   },
   "file_extension": ".py",
   "mimetype": "text/x-python",
   "name": "python",
   "nbconvert_exporter": "python",
   "pygments_lexer": "ipython3",
   "version": "3.9.13"
  }
 },
 "nbformat": 4,
 "nbformat_minor": 4
}
